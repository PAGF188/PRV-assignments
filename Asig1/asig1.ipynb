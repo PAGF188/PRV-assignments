{
 "cells": [
  {
   "cell_type": "markdown",
   "metadata": {},
   "source": [
    "# PRV Assignment 1\n",
    "\n",
    "- Pablo Garcia Fernández"
   ]
  },
  {
   "cell_type": "markdown",
   "metadata": {},
   "source": [
    "Initial configuration"
   ]
  },
  {
   "cell_type": "code",
   "execution_count": 57,
   "metadata": {},
   "outputs": [],
   "source": [
    "# Initial configuration\n",
    "import numpy as np\n",
    "from math import cos,sin\n",
    "\n",
    "#######################################\n",
    "## PREDIFINE CONSTATNS OF THE EXERCISE\n",
    "\n",
    "ROLL=2.5; PITCH=5; YAW=60 \n",
    "TRANSLATION = np.array([0, 0, 0.25])\n",
    "######################################"
   ]
  },
  {
   "cell_type": "markdown",
   "metadata": {},
   "source": [
    "Auxiliar functions"
   ]
  },
  {
   "cell_type": "code",
   "execution_count": 58,
   "metadata": {},
   "outputs": [],
   "source": [
    "def enu_to_ned_ned_to_enu():\n",
    "    transformation_matrix = np.array([\n",
    "        [0., 1, 0, 0],\n",
    "        [1, 0, 0, 0],\n",
    "        [0, 0, -1, 0],\n",
    "\t\t[0, 0, 0, 1]\n",
    "    ])\n",
    "    return transformation_matrix\n",
    "\n",
    "\n",
    "def _3D_rotation_matrix(roll, pitch, yaw, order='ypr', inverso=False):\n",
    "\t# Return the rotation matrix in 3D coordinate systems\n",
    "\tyaw = np.array([\n",
    "\t\t[cos(yaw), -sin(yaw), 0, 0],\n",
    "\t\t[sin(yaw), cos(yaw), 0, 0],\n",
    "\t\t[0, 0, 1, 0],\n",
    "\t\t[0, 0, 0, 1]\n",
    "\t])\n",
    "\tpitch = np.array([\n",
    "\t\t[cos(pitch), 0, sin(pitch), 0],\n",
    "\t\t[0, 1, 0, 0],\n",
    "\t\t[-sin(pitch), 0, cos(pitch), 0],\n",
    "\t\t[0, 0, 0, 1]\n",
    "\t])\n",
    "\troll = np.array([\n",
    "\t\t[1, 0, 0, 0],\n",
    "\t\t[0, cos(roll), -sin(roll), 0],\n",
    "\t\t[0, sin(roll), cos(roll), 0],\n",
    "\t\t[0, 0, 0, 1]\n",
    "\t]) \n",
    "\n",
    "\trotation_matrix = None\n",
    "\t\n",
    "\tif order=='ypr':\n",
    "\t\tif inverso:\n",
    "\t\t\trotation_matrix = yaw.T @ pitch.T @ roll.T\n",
    "\t\telse:\n",
    "\t\t\trotation_matrix = roll @ pitch @ yaw\n",
    "\telif order == 'rpy':\n",
    "\t\tif inverso:\n",
    "\t\t\trotation_matrix = roll.T @ pitch.T @ yaw.T\n",
    "\t\telse:\n",
    "\t\t\trotation_matrix = yaw @ pitch @ roll\n",
    "\telse:\n",
    "\t\tprint(\"Order not supported\")\n",
    "\n",
    "\treturn rotation_matrix"
   ]
  },
  {
   "cell_type": "markdown",
   "metadata": {},
   "source": [
    "### World CS -> INS CS"
   ]
  },
  {
   "cell_type": "code",
   "execution_count": 59,
   "metadata": {},
   "outputs": [],
   "source": [
    "def wcs_to_ins():\n",
    "    # 1) ENU to NED\n",
    "    t1 = enu_to_ned_ned_to_enu()\n",
    "\n",
    "    # 2) yaw, pitch, roll\n",
    "    t2 = _3D_rotation_matrix(ROLL, PITCH, YAW)\n",
    "\n",
    "    return t2 @ t1"
   ]
  },
  {
   "cell_type": "markdown",
   "metadata": {},
   "source": [
    "### INS CS -> gimbal CS"
   ]
  },
  {
   "cell_type": "code",
   "execution_count": 60,
   "metadata": {},
   "outputs": [],
   "source": [
    "def ins_to_gimbal(traslation_vector):\n",
    "    # 1) NED to ENU\n",
    "    transformation_matrix = enu_to_ned_ned_to_enu()\n",
    "    \n",
    "    # 2) Traslacion\n",
    "    transformation_matrix[:-1,-1] = -traslation_vector\n",
    "\n",
    "    return transformation_matrix\n"
   ]
  },
  {
   "cell_type": "markdown",
   "metadata": {},
   "source": [
    "### Gimbal -> camera"
   ]
  },
  {
   "cell_type": "code",
   "execution_count": 61,
   "metadata": {},
   "outputs": [],
   "source": [
    "# Si camara Nadiral orientation -> rotacion 180 en eje e\n",
    "def gimbal_to_camera(omega=180):\n",
    "    rotation_mat = np.array([\n",
    "\t\t[1, 0, 0, 0],\n",
    "\t\t[0, cos(omega), -sin(omega), 0],\n",
    "\t\t[0, sin(omega), cos(omega), 0],\n",
    "\t\t[0, 0, 0, 1]\n",
    "\t]) \n",
    "\n",
    "    return rotation_mat"
   ]
  },
  {
   "cell_type": "markdown",
   "metadata": {},
   "source": [
    "### Composition of all transformations"
   ]
  },
  {
   "cell_type": "code",
   "execution_count": 62,
   "metadata": {},
   "outputs": [
    {
     "name": "stdout",
     "output_type": "stream",
     "text": [
      "wcs to ins:\n",
      " [[ 0.08646325 -0.27016355  0.95892427  0.        ]\n",
      " [ 0.58809197  0.79077686  0.16976392  0.        ]\n",
      " [-0.80415915  0.54925733  0.22725415  0.        ]\n",
      " [ 0.          0.          0.          1.        ]]\n",
      "ins to gimbal:\n",
      " [[ 0.    1.    0.   -0.  ]\n",
      " [ 1.    0.    0.   -0.  ]\n",
      " [ 0.    0.   -1.   -0.25]\n",
      " [ 0.    0.    0.    1.  ]]\n",
      "gimbal to camera:\n",
      " [[ 1.          0.          0.          0.        ]\n",
      " [ 0.         -0.59846007  0.80115264  0.        ]\n",
      " [ 0.         -0.80115264 -0.59846007  0.        ]\n",
      " [ 0.          0.          0.          1.        ]]\n",
      "full matrix: [[ 0.58809197  0.79077686  0.16976392  0.        ]\n",
      " [ 0.59250942 -0.27835686 -0.75594315 -0.20028816]\n",
      " [-0.5505274   0.54515082 -0.63224218  0.14961502]\n",
      " [ 0.          0.          0.          1.        ]]\n",
      "Proyeccion del punto [3 4 0 1] a  [4.92738336 0.46381266 0.67863609 1.        ]\n"
     ]
    }
   ],
   "source": [
    "t1 = wcs_to_ins()\n",
    "print(\"wcs to ins:\\n\", t1)\n",
    "\n",
    "t2 = ins_to_gimbal(TRANSLATION)\n",
    "print(\"ins to gimbal:\\n\", t2)\n",
    "\n",
    "t3 = gimbal_to_camera()\n",
    "print(\"gimbal to camera:\\n\",t3)\n",
    "\n",
    "# TOTAL\n",
    "t = t3 @ t2 @ t1\n",
    "print(\"full matrix:\", t)\n",
    "\n",
    "### Ejemplo de proyeccion\n",
    "punto = np.array([3, 4, 0, 1])\n",
    "proyeccion = t @ punto\n",
    "print(\"Proyeccion del punto\", punto, \"a \", proyeccion)"
   ]
  }
 ],
 "metadata": {
  "kernelspec": {
   "display_name": "Python 3",
   "language": "python",
   "name": "python3"
  },
  "language_info": {
   "codemirror_mode": {
    "name": "ipython",
    "version": 3
   },
   "file_extension": ".py",
   "mimetype": "text/x-python",
   "name": "python",
   "nbconvert_exporter": "python",
   "pygments_lexer": "ipython3",
   "version": "3.9.7"
  }
 },
 "nbformat": 4,
 "nbformat_minor": 4
}
