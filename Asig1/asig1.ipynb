{
 "cells": [
  {
   "cell_type": "markdown",
   "metadata": {},
   "source": [
    "# PRV Assignment 1\n",
    "\n",
    "- Pablo Garcia Fernández"
   ]
  },
  {
   "cell_type": "markdown",
   "metadata": {},
   "source": [
    "Initial configuration"
   ]
  },
  {
   "cell_type": "code",
   "execution_count": 202,
   "metadata": {},
   "outputs": [],
   "source": [
    "# Initial configuration\n",
    "import numpy as np\n",
    "from math import cos,sin\n",
    "\n",
    "#######################################\n",
    "## PREDIFINE CONSTATNS OF THE EXERCISE\n",
    "\n",
    "ROLL=2.5; PITCH=5; YAW=60 \n",
    "TRANSLATION = np.array([0, 0, 0.25])\n",
    "\n",
    "#F = 3.62 # focal length (mm)\n",
    "F = 2406.1 # focal length\n",
    "CX = 25.498; CY=-33.0153 # principal point coordinates\n",
    "K1 = 0.00247448; K2 = -0.0240244; K3 = 0.0604812; K4 = -0.0275491 # radial distorsion\n",
    "P1 = 0.000150734; P2 = -0.000271032 # tangential distorsion\n",
    "B1 = -5.67637; B2 = 0.339356 # affine\n",
    "\n",
    "PIXEL_SIZE = 0.00156  # (mm)\n",
    "W = 4000   # (px)\n",
    "H = 3000   # (pX)\n",
    "\n",
    "# W = RESOLUTION_W * PIXEL_SIZE  # (mm)\n",
    "# H = RESOLUTION_H * PIXEL_SIZE  # (mm)\n",
    "######################################"
   ]
  },
  {
   "cell_type": "markdown",
   "metadata": {},
   "source": [
    "Auxiliar functions"
   ]
  },
  {
   "cell_type": "code",
   "execution_count": 203,
   "metadata": {},
   "outputs": [],
   "source": [
    "def enu_to_ned_ned_to_enu():\n",
    "    transformation_matrix = np.array([\n",
    "        [0., 1, 0, 0],\n",
    "        [1, 0, 0, 0],\n",
    "        [0, 0, -1, 0],\n",
    "\t\t[0, 0, 0, 1]\n",
    "    ])\n",
    "    return transformation_matrix\n",
    "\n",
    "\n",
    "def _3D_rotation_matrix(roll, pitch, yaw, order='ypr', inverso=False):\n",
    "\t# Return the rotation matrix in 3D coordinate systems\n",
    "\t# Assumming ISPRS moving axes\n",
    "\tyaw = np.array([\n",
    "\t\t[cos(yaw), sin(yaw), 0, 0],\n",
    "\t\t[-sin(yaw), cos(yaw), 0, 0],\n",
    "\t\t[0, 0, 1, 0],\n",
    "\t\t[0, 0, 0, 1]\n",
    "\t])\n",
    "\tpitch = np.array([\n",
    "\t\t[cos(pitch), 0, -sin(pitch), 0],\n",
    "\t\t[0, 1, 0, 0],\n",
    "\t\t[sin(pitch), 0, cos(pitch), 0],\n",
    "\t\t[0, 0, 0, 1]\n",
    "\t])\n",
    "\troll = np.array([\n",
    "\t\t[1, 0, 0, 0],\n",
    "\t\t[0, cos(roll), sin(roll), 0],\n",
    "\t\t[0, -sin(roll), cos(roll), 0],\n",
    "\t\t[0, 0, 0, 1]\n",
    "\t]) \n",
    "\n",
    "\trotation_matrix = None\n",
    "\t\n",
    "\tif order=='ypr':\n",
    "\t\tif inverso:\n",
    "\t\t\trotation_matrix = yaw.T @ pitch.T @ roll.T\n",
    "\t\telse:\n",
    "\t\t\trotation_matrix = roll @ pitch @ yaw\n",
    "\telif order == 'rpy':\n",
    "\t\tif inverso:\n",
    "\t\t\trotation_matrix = roll.T @ pitch.T @ yaw.T\n",
    "\t\telse:\n",
    "\t\t\trotation_matrix = yaw @ pitch @ roll\n",
    "\telse:\n",
    "\t\tprint(\"Order not supported\")\n",
    "\n",
    "\treturn rotation_matrix"
   ]
  },
  {
   "cell_type": "markdown",
   "metadata": {},
   "source": [
    "### World CS -> INS CS\n",
    "### INS CS -> INS CS"
   ]
  },
  {
   "cell_type": "code",
   "execution_count": 204,
   "metadata": {},
   "outputs": [],
   "source": [
    "def ins_to_wcs():\n",
    "    # Note -> WCS is ENU\n",
    "        \n",
    "    # 1) yaw, pitch, roll rotation\n",
    "    t1 = _3D_rotation_matrix(ROLL, PITCH, YAW, inverso=True)\n",
    "    \n",
    "    # 2) NED to ENU\n",
    "    t2 = enu_to_ned_ned_to_enu()\n",
    "    \n",
    "    return t2 @ t1\n",
    "\n",
    "def wcs_to_ins():\n",
    "    # 1) ENU to NED\n",
    "    t1 = enu_to_ned_ned_to_enu()\n",
    "\n",
    "    # 2) yaw, pitch, roll rotation\n",
    "    t2 = _3D_rotation_matrix(ROLL, PITCH, YAW, inverso=False)\n",
    "\n",
    "    return t2 @ t1"
   ]
  },
  {
   "cell_type": "markdown",
   "metadata": {},
   "source": [
    "### INS CS -> Gimbal CS\n",
    "### Gimbal CS -> INS CS "
   ]
  },
  {
   "cell_type": "code",
   "execution_count": 205,
   "metadata": {},
   "outputs": [],
   "source": [
    "# They are the same\n",
    "def gimbal_to_ins(traslation_vector):\n",
    "    # 1) Translation + 2) ENU to NED\n",
    "    transformation_matrix = enu_to_ned_ned_to_enu()\n",
    "    transformation_matrix[:-1,-1] = traslation_vector\n",
    "\n",
    "    return transformation_matrix\n",
    "\n",
    "def ins_to_gimbal(traslation_vector):\n",
    "    # 1) NED to ENU + 2) - translation\n",
    "    transformation_matrix = enu_to_ned_ned_to_enu()\n",
    "    transformation_matrix[:-1,-1] = traslation_vector\n",
    "\n",
    "    return transformation_matrix\n"
   ]
  },
  {
   "cell_type": "markdown",
   "metadata": {},
   "source": [
    "### Gimbal CS -> Camera CS\n",
    "### Camera CS -> Gimbal CS"
   ]
  },
  {
   "cell_type": "code",
   "execution_count": 206,
   "metadata": {},
   "outputs": [],
   "source": [
    "def camera_to_gimbal():\n",
    "\t# Frontal to nadiral\n",
    "\t# Rotation -90º axis X\n",
    "\tt = np.array([\n",
    "\t\t[1, 0, 0, 0],\n",
    "\t\t[0, 0, -1, 0],\n",
    "\t\t[0, 1, 0, 0],\n",
    "\t\t[0, 0, 0, 1]\n",
    "\t]) \n",
    "\treturn t\n",
    "\n",
    "def gimbal_to_camera():\n",
    "\t# Nadiral to frontal\n",
    "\t# Rotation 90º axis X\n",
    "\tt = np.array([\n",
    "\t\t[1, 0, 0, 0],\n",
    "\t\t[0, 0, 1, 0],\n",
    "\t\t[0, -1, 0, 0],\n",
    "\t\t[0, 0, 0, 1]\n",
    "\t]) \n",
    "\treturn t"
   ]
  },
  {
   "cell_type": "markdown",
   "metadata": {},
   "source": [
    "### Composition of all transformations"
   ]
  },
  {
   "cell_type": "code",
   "execution_count": 207,
   "metadata": {},
   "outputs": [
    {
     "name": "stdout",
     "output_type": "stream",
     "text": [
      "camera to gimbal:\n",
      " [[ 1  0  0  0]\n",
      " [ 0  0 -1  0]\n",
      " [ 0  1  0  0]\n",
      " [ 0  0  0  1]]\n",
      "gimbal to ins:\n",
      " [[ 0.    1.    0.    0.  ]\n",
      " [ 1.    0.    0.    0.  ]\n",
      " [ 0.    0.   -1.    0.25]\n",
      " [ 0.    0.    0.    1.  ]]\n",
      "ins to wcs:\n",
      " [[-0.08646325  0.93794718  0.33582613  0.        ]\n",
      " [-0.27016355  0.30238269 -0.91409866  0.        ]\n",
      " [-0.95892427 -0.16976392  0.22725415  0.        ]\n",
      " [ 0.          0.          0.          1.        ]]\n",
      "full matrix: [[ 0.93794718 -0.33582613  0.08646325  0.08395653]\n",
      " [ 0.30238269  0.91409866  0.27016355 -0.22852467]\n",
      " [-0.16976392 -0.22725415  0.95892427  0.05681354]\n",
      " [ 0.          0.          0.          1.        ]]\n",
      "Proyeccion del punto [3 4 2 1] a  [1.72742007 4.87534516 0.55635374 1.        ]\n",
      "\n",
      "\n",
      "\n",
      "wcs to ins:\n",
      " [[-0.08646325 -0.27016355 -0.95892427  0.        ]\n",
      " [ 0.93794718  0.30238269 -0.16976392  0.        ]\n",
      " [ 0.33582613 -0.91409866  0.22725415  0.        ]\n",
      " [ 0.          0.          0.          1.        ]]\n",
      "ins to gimbal:\n",
      " [[ 0.    1.    0.    0.  ]\n",
      " [ 1.    0.    0.    0.  ]\n",
      " [ 0.    0.   -1.    0.25]\n",
      " [ 0.    0.    0.    1.  ]]\n",
      "gimbal to camera:\n",
      " [[ 1  0  0  0]\n",
      " [ 0  0  1  0]\n",
      " [ 0 -1  0  0]\n",
      " [ 0  0  0  1]]\n",
      "full matrix: [[ 0.93794718  0.30238269 -0.16976392  0.        ]\n",
      " [-0.33582613  0.91409866 -0.22725415  0.25      ]\n",
      " [ 0.08646325  0.27016355  0.95892427  0.        ]\n",
      " [ 0.          0.          0.          1.        ]]\n",
      "Proyeccion del punto [1.72742007 4.87534516 0.55635374 1.        ] a  [3. 4. 2. 1.]\n"
     ]
    }
   ],
   "source": [
    "# 1st path: camera to wcs\n",
    "t1 = camera_to_gimbal()\n",
    "print(\"camera to gimbal:\\n\", t1)\n",
    "t2 = gimbal_to_ins(TRANSLATION)\n",
    "print(\"gimbal to ins:\\n\", t2)\n",
    "t3 = ins_to_wcs()\n",
    "print(\"ins to wcs:\\n\",t3)\n",
    "# TOTAL\n",
    "t = t3 @ t2 @ t1\n",
    "print(\"full matrix:\", t)\n",
    "### Ejemplo de proyeccion\n",
    "punto = np.array([3, 4, 2, 1])\n",
    "proyeccion = t @ punto\n",
    "print(\"Proyeccion del punto\", punto, \"a \", proyeccion)\n",
    "print(\"\\n\\n\")\n",
    "\n",
    "# Camino 2 de wcs a camera\n",
    "t1 = wcs_to_ins()\n",
    "print(\"wcs to ins:\\n\", t1)\n",
    "t2 = ins_to_gimbal(TRANSLATION)\n",
    "print(\"ins to gimbal:\\n\", t2)\n",
    "t3 = gimbal_to_camera()\n",
    "print(\"gimbal to camera:\\n\",t3)\n",
    "# TOTAL\n",
    "t = t3 @ t2 @ t1\n",
    "print(\"full matrix:\", t)\n",
    "### Ejemplo de proyeccion\n",
    "punto = np.array([1.72742007, 4.87534516, 0.55635374, 1.   ])\n",
    "proyeccion = t @ punto\n",
    "print(\"Proyeccion del punto\", punto, \"a \", proyeccion)"
   ]
  },
  {
   "cell_type": "markdown",
   "metadata": {},
   "source": [
    "## FRAME CAMERA MODEL"
   ]
  },
  {
   "cell_type": "code",
   "execution_count": 208,
   "metadata": {},
   "outputs": [
    {
     "name": "stdout",
     "output_type": "stream",
     "text": [
      "(-2017.4691891178325, -5290.383167313029)\n"
     ]
    }
   ],
   "source": [
    "# CAMERA CS (3D x,y,z) -> IMAGE CS (2D u,v)\n",
    "def camera_model(X,Y,Z):\n",
    "    \n",
    "    x = X/Z\n",
    "    y = Y/Z\n",
    "    r = np.sqrt(x**2 + y**2)\n",
    "    \n",
    "    x_prima = x*(1 + K1*r**2 + K2*r**4 + K3*r**6 + K4*r**8) + (P1*(r**2+2*x**2) + 2*P2*x*y)\n",
    "    y_prima = y*(1 + K1*r**2 + K2*r**4 + K3*r**6 + K4*r**8) + (P2*(r**2+2*y**2) + 2*P1*x*y)\n",
    "    \n",
    "    u = W * 0.5 + CX + x_prima*F + x_prima*B1 + y_prima*B2\n",
    "    v = H * 0.5 + CY + y_prima*F\n",
    "\n",
    "    return u,v\n",
    "\n",
    "\n",
    "# Prueba \n",
    "aa = camera_model(3, 5, 3)\n",
    "print(aa)"
   ]
  },
  {
   "cell_type": "markdown",
   "metadata": {},
   "source": [
    "## Camera calibration-undistort"
   ]
  },
  {
   "cell_type": "markdown",
   "metadata": {},
   "source": [
    "<img src=\"asd.jpeg\" width=\"800\">"
   ]
  },
  {
   "cell_type": "code",
   "execution_count": 209,
   "metadata": {},
   "outputs": [
    {
     "name": "stdout",
     "output_type": "stream",
     "text": [
      "x: -0.833675261903863, y: -0.6047647717679293\n",
      "14.406547609634504\n",
      "x: -0.8311294373852657, y: -0.6028229299241763\n",
      "6.21853404584042\n",
      "x: -0.8300278311267794, y: -0.6019881034525193\n",
      "2.6839553875514244\n",
      "x: -0.8295511665887606, y: -0.6016293507984926\n",
      "1.1583875665296721\n",
      "x: -0.8293448954595978, y: -0.601475236282768\n",
      "0.49996043451582806\n",
      "x: -0.8292556215792793, y: -0.6014090531143288\n",
      "0.21578736834431014\n",
      "x: -0.82921697760481, y: -0.6013806410086203\n",
      "0.09313829618016449\n"
     ]
    }
   ],
   "source": [
    "# IMAGE -> CAMERA\n",
    "def image_to_camera(u,v, threshold):\n",
    "    \"\"\"\n",
    "    De momento hecho para 1 solo pixel\n",
    "    \"\"\"\n",
    "    \n",
    "    # Obtain estimation pixels\n",
    "    y_prima = (v - 0.5*H - CY) / F  \n",
    "    x_prima = (u - 0.5*W - CX - y_prima*B2) / (F + B1) \n",
    "\n",
    "    # Initialize estimated undistorted coordinates and error\n",
    "    x = x_prima\n",
    "    y = y_prima\n",
    "    error = np.Inf\n",
    "    \n",
    "    while(error > threshold):\n",
    "        r = np.sqrt(x**2 + y**2)\n",
    "        \n",
    "        tangential = (1 + K1*r**2 + K2*r**4 + K3*r**6 + K4*r**8)\n",
    "        u_prima, v_prima = camera_model(x,y,1)\n",
    "\n",
    "        dl_uprima = (u_prima - u) / np.sqrt((u - x)**2 + (v - y)**2)\n",
    "        dl_vprima = (v_prima - v) / np.sqrt((u - x)**2 + (v - y)**2)\n",
    "       \n",
    "        duprima_x = F * (tangential + 4*P1*x + 2*P2*y) + B1 * (tangential + 4*P1*x + 2*P2*y) + B2*2*P1*y\n",
    "        dvprima_x = F*2*P1*y\n",
    "        duprima_y = B2 * (tangential + 4*P2*y + 2*P1*x) + F*2*P2*x + B1*2*P2*x\n",
    "        dvprima_y = F * (tangential + 4*P2*y + 2*P1*x)\n",
    "\n",
    "        x = x - 0.000001 * (dl_uprima*duprima_x + dl_vprima*dvprima_x)\n",
    "        y = y - 0.000001 * (dl_uprima*duprima_y + dl_vprima*dvprima_y)\n",
    "        \n",
    "        u_prima, v_prima = camera_model(x,y,1)\n",
    "        error = np.sqrt((u - u_prima)**2 + (v - v_prima)**2)\n",
    "        print(f\"x: {x}, y: {y}\")\n",
    "        print(error)\n",
    "\n",
    "\n",
    "image_to_camera(10, 1, 0.1)\n",
    "\n",
    "\n"
   ]
  }
 ],
 "metadata": {
  "kernelspec": {
   "display_name": "Python 3",
   "language": "python",
   "name": "python3"
  },
  "language_info": {
   "codemirror_mode": {
    "name": "ipython",
    "version": 3
   },
   "file_extension": ".py",
   "mimetype": "text/x-python",
   "name": "python",
   "nbconvert_exporter": "python",
   "pygments_lexer": "ipython3",
   "version": "3.9.7"
  }
 },
 "nbformat": 4,
 "nbformat_minor": 4
}
