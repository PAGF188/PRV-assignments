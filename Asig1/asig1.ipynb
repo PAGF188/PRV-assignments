{
 "cells": [
  {
   "cell_type": "markdown",
   "metadata": {},
   "source": [
    "# PRV Assignment 1\n",
    "\n",
    "- Pablo Garcia Fernández"
   ]
  },
  {
   "cell_type": "markdown",
   "metadata": {},
   "source": [
    "Initial configuration"
   ]
  },
  {
   "cell_type": "code",
   "execution_count": 70,
   "metadata": {},
   "outputs": [],
   "source": [
    "# Initial configuration\n",
    "import numpy as np\n",
    "from math import cos,sin\n",
    "\n",
    "#######################################\n",
    "## PREDIFINE CONSTATNS OF THE EXERCISE\n",
    "\n",
    "ROLL=2.5; PITCH=5; YAW=60 \n",
    "TRANSLATION = np.array([0, 0, 0.25])\n",
    "\n",
    "#F = 2406.1\n",
    "F = 3.62 # focal length (mm)\n",
    "CX = 25.498; CY=-33.0153\n",
    "K1 = 0.00247448; K2 = -0.0240244; K3 = 0.0604812; K4 = -0.0275491; \n",
    "P1 = 0.000150734; P2 = -0.000271032\n",
    "B1 = -5.67637; B2 = 0.339356\n",
    "PIXEL_SIZE = 0.00156  # (mm)\n",
    "RESOLUTION_W = 4000   # (px)\n",
    "RESOLUTION_H = 3000   # (PX)\n",
    "\n",
    "W = RESOLUTION_W * PIXEL_SIZE  # (mm)\n",
    "H = RESOLUTION_H * PIXEL_SIZE  # (mm)\n",
    "######################################"
   ]
  },
  {
   "cell_type": "markdown",
   "metadata": {},
   "source": [
    "Auxiliar functions"
   ]
  },
  {
   "cell_type": "code",
   "execution_count": 71,
   "metadata": {},
   "outputs": [],
   "source": [
    "def enu_to_ned_ned_to_enu():\n",
    "    transformation_matrix = np.array([\n",
    "        [0., 1, 0, 0],\n",
    "        [1, 0, 0, 0],\n",
    "        [0, 0, -1, 0],\n",
    "\t\t[0, 0, 0, 1]\n",
    "    ])\n",
    "    return transformation_matrix\n",
    "\n",
    "\n",
    "def _3D_rotation_matrix(roll, pitch, yaw, order='ypr', inverso=False):\n",
    "\t# Return the rotation matrix in 3D coordinate systems\n",
    "\tyaw = np.array([\n",
    "\t\t[cos(yaw), -sin(yaw), 0, 0],\n",
    "\t\t[sin(yaw), cos(yaw), 0, 0],\n",
    "\t\t[0, 0, 1, 0],\n",
    "\t\t[0, 0, 0, 1]\n",
    "\t])\n",
    "\tpitch = np.array([\n",
    "\t\t[cos(pitch), 0, sin(pitch), 0],\n",
    "\t\t[0, 1, 0, 0],\n",
    "\t\t[-sin(pitch), 0, cos(pitch), 0],\n",
    "\t\t[0, 0, 0, 1]\n",
    "\t])\n",
    "\troll = np.array([\n",
    "\t\t[1, 0, 0, 0],\n",
    "\t\t[0, cos(roll), -sin(roll), 0],\n",
    "\t\t[0, sin(roll), cos(roll), 0],\n",
    "\t\t[0, 0, 0, 1]\n",
    "\t]) \n",
    "\n",
    "\trotation_matrix = None\n",
    "\t\n",
    "\tif order=='ypr':\n",
    "\t\tif inverso:\n",
    "\t\t\trotation_matrix = yaw.T @ pitch.T @ roll.T\n",
    "\t\telse:\n",
    "\t\t\trotation_matrix = roll @ pitch @ yaw\n",
    "\telif order == 'rpy':\n",
    "\t\tif inverso:\n",
    "\t\t\trotation_matrix = roll.T @ pitch.T @ yaw.T\n",
    "\t\telse:\n",
    "\t\t\trotation_matrix = yaw @ pitch @ roll\n",
    "\telse:\n",
    "\t\tprint(\"Order not supported\")\n",
    "\n",
    "\treturn rotation_matrix"
   ]
  },
  {
   "cell_type": "markdown",
   "metadata": {},
   "source": [
    "### World CS -> INS CS\n",
    "### INS CS -> INS CS"
   ]
  },
  {
   "cell_type": "code",
   "execution_count": 72,
   "metadata": {},
   "outputs": [],
   "source": [
    "def ins_to_wcs():\n",
    "    # Note -> WCS is ENU\n",
    "        \n",
    "    # 1) yaw, pitch, roll rotation\n",
    "    t1 = _3D_rotation_matrix(ROLL, PITCH, YAW)\n",
    "    \n",
    "    # 2) NED to ENU\n",
    "    t2 = enu_to_ned_ned_to_enu()\n",
    "    \n",
    "    return t2 @ t1\n",
    "\n",
    "def wcs_to_ins():\n",
    "    # 1) ENU to NED\n",
    "    t1 = enu_to_ned_ned_to_enu()\n",
    "\n",
    "    # 2) yaw, pitch, roll rotation\n",
    "    t2 = _3D_rotation_matrix(ROLL, PITCH, YAW, inverso=True)\n",
    "\n",
    "    return t2 @ t1"
   ]
  },
  {
   "cell_type": "markdown",
   "metadata": {},
   "source": [
    "### INS CS -> Gimbal CS\n",
    "### Gimbal CS -> INS CS "
   ]
  },
  {
   "cell_type": "code",
   "execution_count": 73,
   "metadata": {},
   "outputs": [],
   "source": [
    "def gimbal_to_ins(traslation_vector):\n",
    "    # 1) Translation + 2) ENU to NED\n",
    "    transformation_matrix = enu_to_ned_ned_to_enu()\n",
    "    transformation_matrix[:-1,-1] = traslation_vector\n",
    "\n",
    "    return transformation_matrix\n",
    "\n",
    "def ins_to_gimbal(traslation_vector):\n",
    "    # 1) NED to ENU + 2) - translation\n",
    "    transformation_matrix = enu_to_ned_ned_to_enu()\n",
    "    transformation_matrix[:-1,-1] = traslation_vector\n",
    "\n",
    "    return transformation_matrix\n"
   ]
  },
  {
   "cell_type": "markdown",
   "metadata": {},
   "source": [
    "### Gimbal -> Camera\n",
    "### Camera -> Gimbal"
   ]
  },
  {
   "cell_type": "code",
   "execution_count": 74,
   "metadata": {},
   "outputs": [],
   "source": [
    "def camera_to_gimbal():\n",
    "\t# Frontal to nadiral\n",
    "\t# Rotation -90º axis X\n",
    "\tt = np.array([\n",
    "\t\t[1, 0, 0, 0],\n",
    "\t\t[0, 0, 1, 0],\n",
    "\t\t[0, -1, 0, 0],\n",
    "\t\t[0, 0, 0, 1]\n",
    "\t]) \n",
    "\treturn t\n",
    "\n",
    "def gimbal_to_camera():\n",
    "\t# Nadiral to frontal\n",
    "\t# Rotation 90º axis X\n",
    "    t = np.array([\n",
    "\t\t[1, 0, 0, 0],\n",
    "\t\t[0, 0, -1, 0],\n",
    "\t\t[0, 1, 0, 0],\n",
    "\t\t[0, 0, 0, 1]\n",
    "\t]) \n",
    "    return t"
   ]
  },
  {
   "cell_type": "markdown",
   "metadata": {},
   "source": [
    "### Composition of all transformations"
   ]
  },
  {
   "cell_type": "code",
   "execution_count": 75,
   "metadata": {},
   "outputs": [
    {
     "name": "stdout",
     "output_type": "stream",
     "text": [
      "camera to gimbal:\n",
      " [[ 1  0  0  0]\n",
      " [ 0  0  1  0]\n",
      " [ 0 -1  0  0]\n",
      " [ 0  0  0  1]]\n",
      "gimbal to ins:\n",
      " [[ 0.    1.    0.    0.  ]\n",
      " [ 1.    0.    0.    0.  ]\n",
      " [ 0.    0.   -1.    0.25]\n",
      " [ 0.    0.    0.    1.  ]]\n",
      "ins to wcs:\n",
      " [[ 0.79077686  0.58809197 -0.16976392  0.        ]\n",
      " [-0.27016355  0.08646325 -0.95892427  0.        ]\n",
      " [-0.54925733  0.80415915  0.22725415  0.        ]\n",
      " [ 0.          0.          0.          1.        ]]\n",
      "full matrix: [[ 0.58809197 -0.16976392  0.79077686 -0.04244098]\n",
      " [ 0.08646325 -0.95892427 -0.27016355 -0.23973107]\n",
      " [ 0.80415915  0.22725415 -0.54925733  0.05681354]\n",
      " [ 0.          0.          0.          1.        ]]\n",
      "Proyeccion del punto [3 4 2 1] a  [ 2.624333   -4.35636552  2.27979292  1.        ]\n",
      "\n",
      "\n",
      "\n",
      "wcs to ins:\n",
      " [[ 0.79077686 -0.27016355 -0.54925733  0.        ]\n",
      " [ 0.58809197  0.08646325  0.80415915  0.        ]\n",
      " [-0.16976392 -0.95892427  0.22725415  0.        ]\n",
      " [ 0.          0.          0.          1.        ]]\n",
      "ins to gimbal:\n",
      " [[ 0.    1.    0.    0.  ]\n",
      " [ 1.    0.    0.    0.  ]\n",
      " [ 0.    0.   -1.    0.25]\n",
      " [ 0.    0.    0.    1.  ]]\n",
      "gimbal to camera:\n",
      " [[ 1  0  0  0]\n",
      " [ 0  0 -1  0]\n",
      " [ 0  1  0  0]\n",
      " [ 0  0  0  1]]\n",
      "full matrix: [[ 0.58809197  0.08646325  0.80415915  0.        ]\n",
      " [-0.16976392 -0.95892427  0.22725415 -0.25      ]\n",
      " [ 0.79077686 -0.27016355 -0.54925733  0.        ]\n",
      " [ 0.          0.          0.          1.        ]]\n",
      "Proyeccion del punto [ 2.624333   -4.35636552  2.27979292  1.        ] a  [3. 4. 2. 1.]\n"
     ]
    }
   ],
   "source": [
    "# 1st path: camera to wcs\n",
    "t1 = camera_to_gimbal()\n",
    "print(\"camera to gimbal:\\n\", t1)\n",
    "t2 = gimbal_to_ins(TRANSLATION)\n",
    "print(\"gimbal to ins:\\n\", t2)\n",
    "t3 = ins_to_wcs()\n",
    "print(\"ins to wcs:\\n\",t3)\n",
    "# TOTAL\n",
    "t = t3 @ t2 @ t1\n",
    "print(\"full matrix:\", t)\n",
    "### Ejemplo de proyeccion\n",
    "punto = np.array([3, 4, 2, 1])\n",
    "proyeccion = t @ punto\n",
    "print(\"Proyeccion del punto\", punto, \"a \", proyeccion)\n",
    "print(\"\\n\\n\")\n",
    "\n",
    "# Camino 2 de wcs a camera\n",
    "t1 = wcs_to_ins()\n",
    "print(\"wcs to ins:\\n\", t1)\n",
    "t2 = ins_to_gimbal(TRANSLATION)\n",
    "print(\"ins to gimbal:\\n\", t2)\n",
    "t3 = gimbal_to_camera()\n",
    "print(\"gimbal to camera:\\n\",t3)\n",
    "# TOTAL\n",
    "t = t3 @ t2 @ t1\n",
    "print(\"full matrix:\", t)\n",
    "### Ejemplo de proyeccion\n",
    "punto = np.array([2.624333, -4.35636552, 2.27979292, 1. ])\n",
    "proyeccion = t @ punto\n",
    "print(\"Proyeccion del punto\", punto, \"a \", proyeccion)"
   ]
  },
  {
   "cell_type": "markdown",
   "metadata": {},
   "source": [
    "## CAMERA MODEL"
   ]
  },
  {
   "cell_type": "code",
   "execution_count": 76,
   "metadata": {},
   "outputs": [
    {
     "name": "stdout",
     "output_type": "stream",
     "text": [
      "[55.83150391 31.78246644]\n"
     ]
    }
   ],
   "source": [
    "def camera_model(punto):\n",
    "    X, Y, Z = punto[0], punto[1], punto[2]\n",
    "    \n",
    "    x = X/Z\n",
    "    y = Y/Z\n",
    "    r = np.sqrt(x**2 + y**2)\n",
    "    \n",
    "    x_prima = x * (1 + K1*r**2 + K2*r**4 + K3*r**6 + K4*r**8 + \n",
    "        (P1*(r**2+2*x**2) + 2*P2*x*y))\n",
    "    y_prima = y * (1 + K1*r**2 + K2*r**4 + K3*r**6 + K4*r**8 + \n",
    "        (P2*(r**2+2*y**2) + 2*P1*x*y))\n",
    "    \n",
    "    u = W * 0.5 + CX + x_prima*F + x_prima*B1 + y_prima*B2\n",
    "    v = H * 0.5 + CY + y_prima*F\n",
    "\n",
    "    return np.array([u,v])\n",
    "\n",
    "\n",
    "# Prueba \n",
    "aa = camera_model(punto)\n",
    "print(aa)"
   ]
  },
  {
   "cell_type": "markdown",
   "metadata": {},
   "source": [
    "## Camera calibration-undistort"
   ]
  }
 ],
 "metadata": {
  "kernelspec": {
   "display_name": "Python 3",
   "language": "python",
   "name": "python3"
  },
  "language_info": {
   "codemirror_mode": {
    "name": "ipython",
    "version": 3
   },
   "file_extension": ".py",
   "mimetype": "text/x-python",
   "name": "python",
   "nbconvert_exporter": "python",
   "pygments_lexer": "ipython3",
   "version": "3.9.7"
  }
 },
 "nbformat": 4,
 "nbformat_minor": 4
}
